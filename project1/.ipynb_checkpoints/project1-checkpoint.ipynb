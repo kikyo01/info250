{
 "cells": [
  {
   "cell_type": "code",
   "execution_count": 52,
   "metadata": {},
   "outputs": [],
   "source": [
    "import numpy as np\n",
    "import pandas as pd\n",
    "import matplotlib.pyplot as plt"
   ]
  },
  {
   "cell_type": "code",
   "execution_count": 53,
   "metadata": {},
   "outputs": [],
   "source": [
    "#多子图\n",
    "def muti_axes(mode):\n",
    "    import matplotlib.pyplot as plt\n",
    "    if mode == 0:\n",
    "        plt = plt.figure(figsize=(12.8, 4.8), dpi=100) # 通过figsize调整fig大小 SODA 9/15\n",
    "        ax1 = plt.subplots()\n",
    "        ax1.spines[\"right\"].set_color(\"none\")\n",
    "#         ax1.spines[\"left\"].set_color(\"none\")  # 保留x轴和y轴\n",
    "        ax1.spines[\"top\"].set_color(\"none\")\n",
    "#         ax1.spines[\"bottom\"].set_color(\"none\")\n",
    "        return ax1\n",
    "    elif mode != 0:\n",
    "        # 不能加 plt = plt.figure()\n",
    "        ax2 = plt.subplot(2,6,mode)\n",
    "        ax2.spines[\"right\"].set_color(\"none\")\n",
    "#         ax2.spines[\"left\"].set_color(\"none\")\n",
    "        ax2.spines[\"top\"].set_color(\"none\")\n",
    "#         ax2.spines[\"bottom\"].set_color(\"none\")\n",
    "        return ax2\n"
   ]
  },
  {
   "cell_type": "code",
   "execution_count": 54,
   "metadata": {},
   "outputs": [],
   "source": [
    "#获取x，y轴数据\n",
    "def data_egy(target_df):\n",
    "    row_labels = target_df.index[:]\n",
    "    col_iteration_labels = target_df.columns[4]\n",
    "    col_energy_labels = target_df.columns[8]\n",
    "    x = target_df.loc[row_labels,col_iteration_labels].to_numpy()\n",
    "    y = target_df.loc[row_labels,col_energy_labels].to_numpy()\n",
    "    return x,y\n",
    "def feature_egy(target_df):\n",
    "    row_labels = target_df.index[:]\n",
    "    col_feature_labels = target_df.columns[5]\n",
    "    col_energy_labels = target_df.columns[8]\n",
    "    x = target_df.loc[row_labels,col_feature_labels].to_numpy()\n",
    "    y = target_df.loc[row_labels,col_energy_labels].to_numpy()\n",
    "    return x,y"
   ]
  },
  {
   "cell_type": "code",
   "execution_count": 55,
   "metadata": {},
   "outputs": [],
   "source": [
    "#画图\n",
    "#这个地方需要改一下  SODA 9/15注\n",
    "def plot_scatter(ax,x,y):\n",
    "    \n",
    "    ax = muti_axes(ax)\n",
    "    ax.set_ylim(0,1)\n",
    "    ax.scatter(x,y,s=0.5)\n",
    "\n",
    "def plot_bar(ax,x,y):\n",
    "    ax = muti_axes(ax)\n",
    "    ax.set_ylim(0,1)\n",
    "    p1 = ax.bar(x,y,200)\n",
    "    ax.bar_label(p1, label_type='edge',padding=10)\n",
    "    ax.set_xlabel(\"no_features\")\n",
    "    ax.set_ylabel(\"train_energy(J)\")\n",
    "    ax.set_title(\"How no_features impact train_energy(J)\")\n",
    "    \n",
    "    "
   ]
  },
  {
   "cell_type": "markdown",
   "metadata": {},
   "source": [
    "第二题"
   ]
  },
  {
   "cell_type": "code",
   "execution_count": 56,
   "metadata": {},
   "outputs": [
    {
     "data": {
      "text/plain": [
       "Index(['algorithm', 'no_features', 'experiment_id', 'train_energy(J)'], dtype='object')"
      ]
     },
     "execution_count": 56,
     "metadata": {},
     "output_type": "execute_result"
    }
   ],
   "source": [
    "file_path = './results-2021-12-18.csv'\n",
    "df = pd.read_csv(file_path)\n",
    "df1 = df[(df[\"algorithm\"] == 'SVM')&(df[\"RQ\"]==2.2) ]\n",
    "row_labels = df1.index[:]\n",
    "col_labels = df1.columns[[0,5,2,8]]\n",
    "df2 = df1.loc[row_labels,col_labels]\n",
    "df2.columns\n"
   ]
  },
  {
   "cell_type": "code",
   "execution_count": 57,
   "metadata": {},
   "outputs": [
    {
     "data": {
      "text/html": [
       "<div>\n",
       "<style scoped>\n",
       "    .dataframe tbody tr th:only-of-type {\n",
       "        vertical-align: middle;\n",
       "    }\n",
       "\n",
       "    .dataframe tbody tr th {\n",
       "        vertical-align: top;\n",
       "    }\n",
       "\n",
       "    .dataframe thead th {\n",
       "        text-align: right;\n",
       "    }\n",
       "</style>\n",
       "<table border=\"1\" class=\"dataframe\">\n",
       "  <thead>\n",
       "    <tr style=\"text-align: right;\">\n",
       "      <th></th>\n",
       "      <th>no_features</th>\n",
       "      <th>train_energy(J)</th>\n",
       "    </tr>\n",
       "    <tr>\n",
       "      <th>experiment_id</th>\n",
       "      <th></th>\n",
       "      <th></th>\n",
       "    </tr>\n",
       "  </thead>\n",
       "  <tbody>\n",
       "    <tr>\n",
       "      <th>11</th>\n",
       "      <td>817</td>\n",
       "      <td>0.230795</td>\n",
       "    </tr>\n",
       "    <tr>\n",
       "      <th>12</th>\n",
       "      <td>1633</td>\n",
       "      <td>0.361255</td>\n",
       "    </tr>\n",
       "    <tr>\n",
       "      <th>13</th>\n",
       "      <td>2451</td>\n",
       "      <td>0.392624</td>\n",
       "    </tr>\n",
       "    <tr>\n",
       "      <th>14</th>\n",
       "      <td>3268</td>\n",
       "      <td>0.427346</td>\n",
       "    </tr>\n",
       "    <tr>\n",
       "      <th>15</th>\n",
       "      <td>4084</td>\n",
       "      <td>0.463803</td>\n",
       "    </tr>\n",
       "    <tr>\n",
       "      <th>16</th>\n",
       "      <td>4901</td>\n",
       "      <td>0.763848</td>\n",
       "    </tr>\n",
       "    <tr>\n",
       "      <th>17</th>\n",
       "      <td>5718</td>\n",
       "      <td>0.527261</td>\n",
       "    </tr>\n",
       "    <tr>\n",
       "      <th>18</th>\n",
       "      <td>6535</td>\n",
       "      <td>0.509580</td>\n",
       "    </tr>\n",
       "    <tr>\n",
       "      <th>19</th>\n",
       "      <td>7352</td>\n",
       "      <td>0.624900</td>\n",
       "    </tr>\n",
       "    <tr>\n",
       "      <th>20</th>\n",
       "      <td>8169</td>\n",
       "      <td>0.576659</td>\n",
       "    </tr>\n",
       "  </tbody>\n",
       "</table>\n",
       "</div>"
      ],
      "text/plain": [
       "               no_features  train_energy(J)\n",
       "experiment_id                              \n",
       "11                     817         0.230795\n",
       "12                    1633         0.361255\n",
       "13                    2451         0.392624\n",
       "14                    3268         0.427346\n",
       "15                    4084         0.463803\n",
       "16                    4901         0.763848\n",
       "17                    5718         0.527261\n",
       "18                    6535         0.509580\n",
       "19                    7352         0.624900\n",
       "20                    8169         0.576659"
      ]
     },
     "execution_count": 57,
     "metadata": {},
     "output_type": "execute_result"
    }
   ],
   "source": [
    "df3 = df2.groupby(by=\"experiment_id\").mean()\n",
    "df3"
   ]
  },
  {
   "cell_type": "code",
   "execution_count": 67,
   "metadata": {},
   "outputs": [
    {
     "data": {
      "image/png": "[encoded data removed]",
      "text/plain": [
       "<Figure size 1280x480 with 1 Axes>"
      ]
     },
     "metadata": {
      "needs_background": "light"
     },
     "output_type": "display_data"
    }
   ],
   "source": [
    "x = df3.loc[df3.index[:],df3.columns[0]].to_numpy()\n",
    "y = df3.loc[df3.index[:],df3.columns[1]].to_numpy()\n",
    "plot_bar(0,x,y)\n"
   ]
  },
  {
   "cell_type": "code",
   "execution_count": 59,
   "metadata": {},
   "outputs": [
    {
     "data": {
      "image/png": "[encoded data removed]",
      "text/plain": [
       "<Figure size 1280x480 with 1 Axes>"
      ]
     },
     "metadata": {
      "needs_background": "light"
     },
     "output_type": "display_data"
    }
   ],
   "source": [
    "#df1中特征数和消耗的关系\n",
    "row_labels = df1.index[:]\n",
    "col_feature_labels = df1.columns[5]\n",
    "col_energy_labels = df1.columns[8]\n",
    "x = df1.loc[row_labels,col_feature_labels].to_numpy()\n",
    "y = df1.loc[row_labels,col_energy_labels].to_numpy()\n",
    "\n",
    "\n",
    "plot_scatter(0,x,y)\n",
    "\n"
   ]
  },
  {
   "cell_type": "code",
   "execution_count": 60,
   "metadata": {},
   "outputs": [
    {
     "data": {
      "text/plain": [
       "0     2730\n",
       "1     3900\n",
       "5     1559\n",
       "6     1950\n",
       "7     3119\n",
       "9      779\n",
       "12    1169\n",
       "19    3509\n",
       "24    2340\n",
       "39     389\n",
       "Name: no_datapoints, dtype: int64"
      ]
     },
     "execution_count": 60,
     "metadata": {},
     "output_type": "execute_result"
    }
   ],
   "source": [
    "df[\"no_datapoints\"].drop_duplicates()"
   ]
  },
  {
   "cell_type": "code",
   "execution_count": 61,
   "metadata": {},
   "outputs": [
    {
     "data": {
      "text/plain": [
       "0     8169\n",
       "1     2451\n",
       "2     4084\n",
       "3     1633\n",
       "4     6535\n",
       "8     3268\n",
       "11     817\n",
       "16    5718\n",
       "46    4901\n",
       "67    7352\n",
       "Name: no_features, dtype: int64"
      ]
     },
     "execution_count": 61,
     "metadata": {},
     "output_type": "execute_result"
    }
   ],
   "source": [
    "df[\"no_features\"].drop_duplicates()"
   ]
  },
  {
   "cell_type": "code",
   "execution_count": null,
   "metadata": {},
   "outputs": [],
   "source": [
    "\n",
    "\n"
   ]
  },
  {
   "cell_type": "markdown",
   "metadata": {},
   "source": [
    "以下是方便编程的数据，可自行添加"
   ]
  },
  {
   "cell_type": "code",
   "execution_count": 62,
   "metadata": {},
   "outputs": [
    {
     "name": "stdout",
     "output_type": "stream",
     "text": [
      "6\n"
     ]
    },
    {
     "data": {
      "text/plain": [
       "0               AdaBoost\n",
       "1          Decision Tree\n",
       "2                    SVM\n",
       "4     Bagging Classifier\n",
       "6                    KNN\n",
       "14         Random Forest\n",
       "Name: algorithm, dtype: object"
      ]
     },
     "execution_count": 62,
     "metadata": {},
     "output_type": "execute_result"
    }
   ],
   "source": [
    "\n",
    "print(len(df[\"algorithm\"].drop_duplicates()))\n",
    "df[\"algorithm\"].drop_duplicates()"
   ]
  },
  {
   "cell_type": "code",
   "execution_count": 63,
   "metadata": {},
   "outputs": [
    {
     "data": {
      "image/png": "[encoded data removed]",
      "text/plain": [
       "<Figure size 1280x320 with 12 Axes>"
      ]
     },
     "metadata": {
      "needs_background": "light"
     },
     "output_type": "display_data"
    }
   ],
   "source": [
    "df_AdaBoost = df[df[\"algorithm\"] == \"AdaBoost\"]\n",
    "df_AdaBoost_datapoints = df_AdaBoost[df_AdaBoost[\"RQ\"] == 2.1]\n",
    "df_AdaBoost_features = df_AdaBoost[df_AdaBoost[\"RQ\"] == 2.2]\n",
    "\n",
    "df_DecisionTree = df[df[\"algorithm\"] == \"Decision Tree\"]\n",
    "df_DecisionTree_datapoints = df_DecisionTree[df_DecisionTree[\"RQ\"] == 2.1]\n",
    "df_DecisionTree_features = df_DecisionTree[df_DecisionTree[\"RQ\"] == 2.2]\n",
    "\n",
    "df_SVM = df[df[\"algorithm\"] == \"SVM\"]\n",
    "df_SVM_datapoints = df_SVM[df_SVM[\"RQ\"] == 2.1]\n",
    "df_SVM_features = df_SVM[df_SVM[\"RQ\"] == 2.2]\n",
    "\n",
    "df_BC = df[df[\"algorithm\"] == \"Bagging Classifier\"]\n",
    "df_BC_datapoints = df_BC[df_BC[\"RQ\"] == 2.1]\n",
    "df_BC_features = df_BC[df_BC[\"RQ\"] == 2.2]\n",
    "\n",
    "df_KNN = df[df[\"algorithm\"] == \"KNN\"]\n",
    "df_KNN_datapoints = df_KNN[df_KNN[\"RQ\"] == 2.1]\n",
    "df_KNN_features = df_KNN[df_KNN[\"RQ\"] == 2.2]\n",
    "\n",
    "df_RandomForest = df[df[\"algorithm\"] == \"Random Forest\"]\n",
    "df_RandomForest_datapoints = df_RandomForest[df_RandomForest[\"RQ\"] == 2.1]\n",
    "df_RandomForest_features = df_RandomForest[df_RandomForest[\"RQ\"] == 2.2]\n",
    "\n",
    "\n",
    "\n",
    "\n",
    "\n",
    "plt = plt.figure(figsize=(12.8, 3.2), dpi=100)\n",
    "#AdaBoost\n",
    "x,y = data_egy(df_AdaBoost_datapoints)\n",
    "plot_scatter(1,x,y)\n",
    "x,y = feature_egy(df_AdaBoost_features)\n",
    "plot_scatter(7,x,y)\n",
    "#Decision_Tree\n",
    "x,y = data_egy(df_DecisionTree_datapoints)\n",
    "plot_scatter(2,x,y)\n",
    "x,y = feature_egy(df_AdaBoost_features)\n",
    "plot_scatter(8,x,y)\n",
    "#SVM\n",
    "x,y = data_egy(df_SVM_datapoints)\n",
    "plot_scatter(3,x,y)\n",
    "x,y = feature_egy(df_SVM_features)\n",
    "plot_scatter(9,x,y)\n",
    "\n",
    "#Bagging Classifier\n",
    "x,y = data_egy(df_BC_datapoints)\n",
    "plot_scatter(4,x,y)\n",
    "x,y = feature_egy(df_BC_features)\n",
    "plot_scatter(10,x,y)\n",
    "#KNN\n",
    "x,y = data_egy(df_KNN_datapoints)\n",
    "plot_scatter(5,x,y)\n",
    "x,y = feature_egy(df_KNN_features)\n",
    "plot_scatter(11,x,y)\n",
    "#Random Forest \n",
    "x,y = data_egy(df_RandomForest_datapoints)\n",
    "plot_scatter(6,x,y)\n",
    "x,y = feature_egy(df_RandomForest_features)\n",
    "plot_scatter(12,x,y)\n",
    "\n"
   ]
  },
  {
   "cell_type": "code",
   "execution_count": 64,
   "metadata": {},
   "outputs": [
    {
     "data": {
      "text/plain": [
       "Index(['algorithm', 'RQ', 'experiment_id', 'iteration', 'no_datapoints',\n",
       "       'no_features', 'preprocessing_energy(J)', 'preprocessing_time(s)',\n",
       "       'train_energy(J)', 'train_time(s)', 'predict_energy(J)',\n",
       "       'predict_time(s)', 'datatype', 'accuracy', 'precision', 'recall', 'f1'],\n",
       "      dtype='object')"
      ]
     },
     "execution_count": 64,
     "metadata": {},
     "output_type": "execute_result"
    }
   ],
   "source": [
    "df.index\n",
    "df.columns"
   ]
  },
  {
   "cell_type": "code",
   "execution_count": 65,
   "metadata": {},
   "outputs": [
    {
     "data": {
      "text/html": [
       "<div>\n",
       "<style scoped>\n",
       "    .dataframe tbody tr th:only-of-type {\n",
       "        vertical-align: middle;\n",
       "    }\n",
       "\n",
       "    .dataframe tbody tr th {\n",
       "        vertical-align: top;\n",
       "    }\n",
       "\n",
       "    .dataframe thead th {\n",
       "        text-align: right;\n",
       "    }\n",
       "</style>\n",
       "<table border=\"1\" class=\"dataframe\">\n",
       "  <thead>\n",
       "    <tr style=\"text-align: right;\">\n",
       "      <th></th>\n",
       "      <th>algorithm</th>\n",
       "      <th>RQ</th>\n",
       "      <th>experiment_id</th>\n",
       "      <th>iteration</th>\n",
       "      <th>no_datapoints</th>\n",
       "      <th>no_features</th>\n",
       "      <th>preprocessing_energy(J)</th>\n",
       "      <th>preprocessing_time(s)</th>\n",
       "      <th>train_energy(J)</th>\n",
       "      <th>train_time(s)</th>\n",
       "      <th>predict_energy(J)</th>\n",
       "      <th>predict_time(s)</th>\n",
       "      <th>datatype</th>\n",
       "      <th>accuracy</th>\n",
       "      <th>precision</th>\n",
       "      <th>recall</th>\n",
       "      <th>f1</th>\n",
       "    </tr>\n",
       "  </thead>\n",
       "  <tbody>\n",
       "    <tr>\n",
       "      <th>2</th>\n",
       "      <td>SVM</td>\n",
       "      <td>2.2</td>\n",
       "      <td>15</td>\n",
       "      <td>22</td>\n",
       "      <td>3900</td>\n",
       "      <td>4084</td>\n",
       "      <td>0.018298</td>\n",
       "      <td>1.467225</td>\n",
       "      <td>0.530155</td>\n",
       "      <td>1.941215</td>\n",
       "      <td>0.303603</td>\n",
       "      <td>1.687695</td>\n",
       "      <td>float64</td>\n",
       "      <td>0.828349</td>\n",
       "      <td>0.431965</td>\n",
       "      <td>0.892857</td>\n",
       "      <td>0.582242</td>\n",
       "    </tr>\n",
       "    <tr>\n",
       "      <th>10</th>\n",
       "      <td>SVM</td>\n",
       "      <td>2.2</td>\n",
       "      <td>20</td>\n",
       "      <td>24</td>\n",
       "      <td>3900</td>\n",
       "      <td>8169</td>\n",
       "      <td>0.000555</td>\n",
       "      <td>1.428892</td>\n",
       "      <td>0.412243</td>\n",
       "      <td>2.066957</td>\n",
       "      <td>0.313685</td>\n",
       "      <td>1.687010</td>\n",
       "      <td>float64</td>\n",
       "      <td>0.828349</td>\n",
       "      <td>0.431965</td>\n",
       "      <td>0.892857</td>\n",
       "      <td>0.582242</td>\n",
       "    </tr>\n",
       "    <tr>\n",
       "      <th>29</th>\n",
       "      <td>SVM</td>\n",
       "      <td>2.2</td>\n",
       "      <td>18</td>\n",
       "      <td>6</td>\n",
       "      <td>3900</td>\n",
       "      <td>6535</td>\n",
       "      <td>0.027213</td>\n",
       "      <td>1.464715</td>\n",
       "      <td>0.485354</td>\n",
       "      <td>2.002823</td>\n",
       "      <td>0.253381</td>\n",
       "      <td>1.696711</td>\n",
       "      <td>float64</td>\n",
       "      <td>0.828349</td>\n",
       "      <td>0.431965</td>\n",
       "      <td>0.892857</td>\n",
       "      <td>0.582242</td>\n",
       "    </tr>\n",
       "    <tr>\n",
       "      <th>50</th>\n",
       "      <td>SVM</td>\n",
       "      <td>2.2</td>\n",
       "      <td>14</td>\n",
       "      <td>5</td>\n",
       "      <td>3900</td>\n",
       "      <td>3268</td>\n",
       "      <td>0.017794</td>\n",
       "      <td>1.460684</td>\n",
       "      <td>0.319910</td>\n",
       "      <td>1.917792</td>\n",
       "      <td>0.193521</td>\n",
       "      <td>1.663233</td>\n",
       "      <td>float64</td>\n",
       "      <td>0.828349</td>\n",
       "      <td>0.431965</td>\n",
       "      <td>0.892857</td>\n",
       "      <td>0.582242</td>\n",
       "    </tr>\n",
       "    <tr>\n",
       "      <th>63</th>\n",
       "      <td>SVM</td>\n",
       "      <td>2.2</td>\n",
       "      <td>11</td>\n",
       "      <td>25</td>\n",
       "      <td>3900</td>\n",
       "      <td>817</td>\n",
       "      <td>0.015382</td>\n",
       "      <td>1.445168</td>\n",
       "      <td>0.292157</td>\n",
       "      <td>1.678948</td>\n",
       "      <td>0.109493</td>\n",
       "      <td>1.578061</td>\n",
       "      <td>float64</td>\n",
       "      <td>0.828349</td>\n",
       "      <td>0.431965</td>\n",
       "      <td>0.892857</td>\n",
       "      <td>0.582242</td>\n",
       "    </tr>\n",
       "    <tr>\n",
       "      <th>...</th>\n",
       "      <td>...</td>\n",
       "      <td>...</td>\n",
       "      <td>...</td>\n",
       "      <td>...</td>\n",
       "      <td>...</td>\n",
       "      <td>...</td>\n",
       "      <td>...</td>\n",
       "      <td>...</td>\n",
       "      <td>...</td>\n",
       "      <td>...</td>\n",
       "      <td>...</td>\n",
       "      <td>...</td>\n",
       "      <td>...</td>\n",
       "      <td>...</td>\n",
       "      <td>...</td>\n",
       "      <td>...</td>\n",
       "      <td>...</td>\n",
       "    </tr>\n",
       "    <tr>\n",
       "      <th>3543</th>\n",
       "      <td>SVM</td>\n",
       "      <td>2.2</td>\n",
       "      <td>20</td>\n",
       "      <td>16</td>\n",
       "      <td>3900</td>\n",
       "      <td>8169</td>\n",
       "      <td>0.000603</td>\n",
       "      <td>1.468778</td>\n",
       "      <td>0.413254</td>\n",
       "      <td>2.061135</td>\n",
       "      <td>0.235127</td>\n",
       "      <td>1.717008</td>\n",
       "      <td>float64</td>\n",
       "      <td>0.828349</td>\n",
       "      <td>0.431965</td>\n",
       "      <td>0.892857</td>\n",
       "      <td>0.582242</td>\n",
       "    </tr>\n",
       "    <tr>\n",
       "      <th>3565</th>\n",
       "      <td>SVM</td>\n",
       "      <td>2.2</td>\n",
       "      <td>12</td>\n",
       "      <td>29</td>\n",
       "      <td>3900</td>\n",
       "      <td>1633</td>\n",
       "      <td>0.018434</td>\n",
       "      <td>1.444016</td>\n",
       "      <td>0.513829</td>\n",
       "      <td>1.743940</td>\n",
       "      <td>0.284794</td>\n",
       "      <td>1.578154</td>\n",
       "      <td>float64</td>\n",
       "      <td>0.828349</td>\n",
       "      <td>0.431965</td>\n",
       "      <td>0.892857</td>\n",
       "      <td>0.582242</td>\n",
       "    </tr>\n",
       "    <tr>\n",
       "      <th>3577</th>\n",
       "      <td>SVM</td>\n",
       "      <td>2.2</td>\n",
       "      <td>12</td>\n",
       "      <td>12</td>\n",
       "      <td>3900</td>\n",
       "      <td>1633</td>\n",
       "      <td>0.018543</td>\n",
       "      <td>1.455903</td>\n",
       "      <td>0.275112</td>\n",
       "      <td>1.752773</td>\n",
       "      <td>0.207455</td>\n",
       "      <td>1.602667</td>\n",
       "      <td>float64</td>\n",
       "      <td>0.828349</td>\n",
       "      <td>0.431965</td>\n",
       "      <td>0.892857</td>\n",
       "      <td>0.582242</td>\n",
       "    </tr>\n",
       "    <tr>\n",
       "      <th>3585</th>\n",
       "      <td>SVM</td>\n",
       "      <td>2.2</td>\n",
       "      <td>17</td>\n",
       "      <td>3</td>\n",
       "      <td>3900</td>\n",
       "      <td>5718</td>\n",
       "      <td>0.020292</td>\n",
       "      <td>1.455735</td>\n",
       "      <td>0.371999</td>\n",
       "      <td>2.000642</td>\n",
       "      <td>0.177845</td>\n",
       "      <td>1.684551</td>\n",
       "      <td>float64</td>\n",
       "      <td>0.828349</td>\n",
       "      <td>0.431965</td>\n",
       "      <td>0.892857</td>\n",
       "      <td>0.582242</td>\n",
       "    </tr>\n",
       "    <tr>\n",
       "      <th>3597</th>\n",
       "      <td>SVM</td>\n",
       "      <td>2.2</td>\n",
       "      <td>17</td>\n",
       "      <td>19</td>\n",
       "      <td>3900</td>\n",
       "      <td>5718</td>\n",
       "      <td>0.090063</td>\n",
       "      <td>1.408732</td>\n",
       "      <td>1.108957</td>\n",
       "      <td>2.026484</td>\n",
       "      <td>0.488150</td>\n",
       "      <td>1.690740</td>\n",
       "      <td>float64</td>\n",
       "      <td>0.828349</td>\n",
       "      <td>0.431965</td>\n",
       "      <td>0.892857</td>\n",
       "      <td>0.582242</td>\n",
       "    </tr>\n",
       "  </tbody>\n",
       "</table>\n",
       "<p>300 rows × 17 columns</p>\n",
       "</div>"
      ],
      "text/plain": [
       "     algorithm   RQ  experiment_id  iteration  no_datapoints  no_features  \\\n",
       "2          SVM  2.2             15         22           3900         4084   \n",
       "10         SVM  2.2             20         24           3900         8169   \n",
       "29         SVM  2.2             18          6           3900         6535   \n",
       "50         SVM  2.2             14          5           3900         3268   \n",
       "63         SVM  2.2             11         25           3900          817   \n",
       "...        ...  ...            ...        ...            ...          ...   \n",
       "3543       SVM  2.2             20         16           3900         8169   \n",
       "3565       SVM  2.2             12         29           3900         1633   \n",
       "3577       SVM  2.2             12         12           3900         1633   \n",
       "3585       SVM  2.2             17          3           3900         5718   \n",
       "3597       SVM  2.2             17         19           3900         5718   \n",
       "\n",
       "      preprocessing_energy(J)  preprocessing_time(s)  train_energy(J)  \\\n",
       "2                    0.018298               1.467225         0.530155   \n",
       "10                   0.000555               1.428892         0.412243   \n",
       "29                   0.027213               1.464715         0.485354   \n",
       "50                   0.017794               1.460684         0.319910   \n",
       "63                   0.015382               1.445168         0.292157   \n",
       "...                       ...                    ...              ...   \n",
       "3543                 0.000603               1.468778         0.413254   \n",
       "3565                 0.018434               1.444016         0.513829   \n",
       "3577                 0.018543               1.455903         0.275112   \n",
       "3585                 0.020292               1.455735         0.371999   \n",
       "3597                 0.090063               1.408732         1.108957   \n",
       "\n",
       "      train_time(s)  predict_energy(J)  predict_time(s) datatype  accuracy  \\\n",
       "2          1.941215           0.303603         1.687695  float64  0.828349   \n",
       "10         2.066957           0.313685         1.687010  float64  0.828349   \n",
       "29         2.002823           0.253381         1.696711  float64  0.828349   \n",
       "50         1.917792           0.193521         1.663233  float64  0.828349   \n",
       "63         1.678948           0.109493         1.578061  float64  0.828349   \n",
       "...             ...                ...              ...      ...       ...   \n",
       "3543       2.061135           0.235127         1.717008  float64  0.828349   \n",
       "3565       1.743940           0.284794         1.578154  float64  0.828349   \n",
       "3577       1.752773           0.207455         1.602667  float64  0.828349   \n",
       "3585       2.000642           0.177845         1.684551  float64  0.828349   \n",
       "3597       2.026484           0.488150         1.690740  float64  0.828349   \n",
       "\n",
       "      precision    recall        f1  \n",
       "2      0.431965  0.892857  0.582242  \n",
       "10     0.431965  0.892857  0.582242  \n",
       "29     0.431965  0.892857  0.582242  \n",
       "50     0.431965  0.892857  0.582242  \n",
       "63     0.431965  0.892857  0.582242  \n",
       "...         ...       ...       ...  \n",
       "3543   0.431965  0.892857  0.582242  \n",
       "3565   0.431965  0.892857  0.582242  \n",
       "3577   0.431965  0.892857  0.582242  \n",
       "3585   0.431965  0.892857  0.582242  \n",
       "3597   0.431965  0.892857  0.582242  \n",
       "\n",
       "[300 rows x 17 columns]"
      ]
     },
     "execution_count": 65,
     "metadata": {},
     "output_type": "execute_result"
    }
   ],
   "source": [
    "df[(df[\"algorithm\"]==\"SVM\")&(df[\"RQ\"]==2.2)]"
   ]
  },
  {
   "cell_type": "code",
   "execution_count": 66,
   "metadata": {},
   "outputs": [
    {
     "ename": "AttributeError",
     "evalue": "'Figure' object has no attribute 'ylim'",
     "output_type": "error",
     "traceback": [
      "\u001b[1;31m---------------------------------------------------------------------------\u001b[0m",
      "\u001b[1;31mAttributeError\u001b[0m                            Traceback (most recent call last)",
      "\u001b[1;32m<ipython-input-66-1a9b1c4c9334>\u001b[0m in \u001b[0;36m<module>\u001b[1;34m\u001b[0m\n\u001b[0;32m      1\u001b[0m \u001b[1;31m#探索迭代次数和消耗的关系\u001b[0m\u001b[1;33m\u001b[0m\u001b[1;33m\u001b[0m\u001b[1;33m\u001b[0m\u001b[0m\n\u001b[1;32m----> 2\u001b[1;33m \u001b[0mplt\u001b[0m\u001b[1;33m.\u001b[0m\u001b[0mylim\u001b[0m\u001b[1;33m(\u001b[0m\u001b[1;36m0\u001b[0m\u001b[1;33m,\u001b[0m\u001b[1;36m2\u001b[0m\u001b[1;33m)\u001b[0m\u001b[1;33m\u001b[0m\u001b[1;33m\u001b[0m\u001b[0m\n\u001b[0m\u001b[0;32m      3\u001b[0m \u001b[0mrow_labels\u001b[0m \u001b[1;33m=\u001b[0m \u001b[0mdf1\u001b[0m\u001b[1;33m.\u001b[0m\u001b[0mindex\u001b[0m\u001b[1;33m[\u001b[0m\u001b[1;33m:\u001b[0m\u001b[1;33m]\u001b[0m\u001b[1;33m\u001b[0m\u001b[1;33m\u001b[0m\u001b[0m\n\u001b[0;32m      4\u001b[0m \u001b[0mcol_iteration_labels\u001b[0m \u001b[1;33m=\u001b[0m \u001b[0mdf1\u001b[0m\u001b[1;33m.\u001b[0m\u001b[0mcolumns\u001b[0m\u001b[1;33m[\u001b[0m\u001b[1;36m3\u001b[0m\u001b[1;33m]\u001b[0m\u001b[1;33m\u001b[0m\u001b[1;33m\u001b[0m\u001b[0m\n\u001b[0;32m      5\u001b[0m \u001b[0mcol_energy_labels\u001b[0m \u001b[1;33m=\u001b[0m \u001b[0mdf1\u001b[0m\u001b[1;33m.\u001b[0m\u001b[0mcolumns\u001b[0m\u001b[1;33m[\u001b[0m\u001b[1;36m8\u001b[0m\u001b[1;33m]\u001b[0m\u001b[1;33m\u001b[0m\u001b[1;33m\u001b[0m\u001b[0m\n",
      "\u001b[1;31mAttributeError\u001b[0m: 'Figure' object has no attribute 'ylim'"
     ]
    }
   ],
   "source": [
    "#探索迭代次数和消耗的关系\n",
    "plt.ylim(0,2)\n",
    "row_labels = df1.index[:]\n",
    "col_iteration_labels = df1.columns[3]\n",
    "col_energy_labels = df1.columns[8]\n",
    "x = df1.loc[row_labels,col_iteration_labels].to_numpy()\n",
    "#坐标轴\n",
    "y = df1.loc[row_labels,col_energy_labels].to_numpy()\n",
    "plt.scatter(x,y,s=2)\n"
   ]
  }
 ],
 "metadata": {
  "kernelspec": {
   "display_name": "Python 3",
   "language": "python",
   "name": "python3"
  },
  "language_info": {
   "codemirror_mode": {
    "name": "ipython",
    "version": 3
   },
   "file_extension": ".py",
   "mimetype": "text/x-python",
   "name": "python",
   "nbconvert_exporter": "python",
   "pygments_lexer": "ipython3",
   "version": "3.8.8"
  },
  "vscode": {
   "interpreter": {
    "hash": "b41d71cbc0439fc417e86b3956d9a2395873ebcf6bc609714fc9f16f04a567a9"
   }
  }
 },
 "nbformat": 4,
 "nbformat_minor": 2
}
